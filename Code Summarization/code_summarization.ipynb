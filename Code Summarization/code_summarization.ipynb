{
 "cells": [
  {
   "cell_type": "code",
   "execution_count": null,
   "metadata": {},
   "outputs": [],
   "source": [
    "# imports\n",
    "from pathlib import Path\n",
    "import os\n",
    "from openai import AzureOpenAI\n",
    "from dotenv import load_dotenv\n",
    "from pathlib import Path"
   ]
  },
  {
   "cell_type": "code",
   "execution_count": null,
   "metadata": {},
   "outputs": [],
   "source": [
    "# Load API key & set up configuration for Azure\n",
    "load_dotenv()\n",
    "\n",
    "API_KEY = os.getenv(\"OCP_APIM_SUBSCRIPTION_KEY\",\"\").strip()\n",
    "assert API_KEY, \"ERROR: Azure OpenAI Key is missing\"\n",
    "\n",
    "RESOURCE_ENDPOINT = os.getenv(\"OPENAI_API_BASE_ENDPOINT\",\"\").strip()\n",
    "assert RESOURCE_ENDPOINT, \"ERROR: Azure OpenAI Endpoint is missing\"\n",
    "RESOURCE_ENDPOINT = f\"https://az-apim-svc-westeurope.azure-api.net\"\n",
    "client = AzureOpenAI(api_key=API_KEY, azure_endpoint=RESOURCE_ENDPOINT, api_version=\"2023-05-15\"\n",
    "                       ,default_headers={\"Ocp-Apim-Subscription-Key\": API_KEY})"
   ]
  },
  {
   "cell_type": "code",
   "execution_count": null,
   "metadata": {},
   "outputs": [],
   "source": [
    "# Patterns of the sourcefiles to look after\n",
    "f_pat = \"*.java\"\n",
    "# Location of the root folder to scan recursively\n",
    "root_path = \".//test_code_dir//\"\n",
    "# path of the result\n",
    "result_path = \".//output//result.txt\""
   ]
  },
  {
   "cell_type": "code",
   "execution_count": null,
   "metadata": {},
   "outputs": [],
   "source": [
    "# Set a context for the chatbot, how is the chatbot supposed to behave\n",
    "messages_origin = [\n",
    "    {\n",
    "        \"role\": \"system\",\n",
    "        \"content\": \"You are a professional software developer with a lot of experience who answers are short and very concise.\",\n",
    "    },\n",
    "    {\n",
    "        \"role\": \"system\",\n",
    "        \"content\": \"Please summarize the following sourcecode briefly in three to 8 sentences each. Also note what could be improved here or if anything can be improved\",\n",
    "    },\n",
    "]"
   ]
  },
  {
   "cell_type": "code",
   "execution_count": null,
   "metadata": {},
   "outputs": [],
   "source": [
    "print(\"Start scan\")\n",
    "\n",
    "# create a new chat to limit token size\n",
    "messages = messages_origin.copy()\n",
    "\n",
    "results = []\n",
    "\n",
    "for p in Path(root_path).rglob(f_pat):\n",
    "    with open(p, \"r\") as f:\n",
    "        f_string = f.read()\n",
    "        messages.append({\"role\": \"user\", \"content\": f_string})\n",
    "        chat = client.chat.completions.create(\n",
    "            model=\"gpt-35-turbo-4k-0613\", messages=messages)\n",
    "        reply = chat.choices[0].message.content\n",
    "        # Split sentences at the end to provide better readability\n",
    "        reply_split = reply.replace(\". \", \".\\n\")\n",
    "        results.append(\n",
    "            {\n",
    "                \"filepath\": p,\n",
    "                \"filename\": p.name,\n",
    "                \"summary\": reply,\n",
    "                \"summary_split\": reply_split,\n",
    "            }\n",
    "        )\n",
    "    print(p)\n",
    "\n",
    "print(\"Scan sucessful\")\n"
   ]
  },
  {
   "cell_type": "code",
   "execution_count": null,
   "metadata": {},
   "outputs": [],
   "source": [
    "print(\"Writing results\")\n",
    "with open(result_path, \"w\") as f:\n",
    "    for r in results:\n",
    "        f.write(str(r[\"filename\"]) + \":\\n\")\n",
    "        f.write(\"Path: \" + str(r[\"filepath\"]) + \":\\n\")\n",
    "        f.write(r[\"summary_split\"] + \"\\n\\n\")\n",
    "print(\"results written to: \" + result_path)"
   ]
  }
 ],
 "metadata": {
  "kernelspec": {
   "display_name": "venv",
   "language": "python",
   "name": "python3"
  },
  "language_info": {
   "codemirror_mode": {
    "name": "ipython",
    "version": 3
   },
   "file_extension": ".py",
   "mimetype": "text/x-python",
   "name": "python",
   "nbconvert_exporter": "python",
   "pygments_lexer": "ipython3",
   "version": "3.11.4"
  },
  "orig_nbformat": 4
 },
 "nbformat": 4,
 "nbformat_minor": 2
}
