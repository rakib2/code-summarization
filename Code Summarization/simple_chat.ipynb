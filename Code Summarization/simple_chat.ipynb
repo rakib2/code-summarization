{
 "cells": [
  {
   "cell_type": "code",
   "execution_count": null,
   "metadata": {},
   "outputs": [],
   "source": [
    "from openai import AzureOpenAI\n",
    "import os\n",
    "import json\n",
    "\n",
    "from dotenv import load_dotenv\n",
    "load_dotenv()\n",
    "\n",
    "\n",
    "API_KEY = os.getenv(\"OCP_APIM_SUBSCRIPTION_KEY\",\"\").strip()\n",
    "assert API_KEY, \"ERROR: Azure OpenAI Key is missing\"\n",
    "\n",
    "RESOURCE_ENDPOINT = os.getenv(\"OPENAI_API_BASE_ENDPOINT\",\"\").strip()\n",
    "assert RESOURCE_ENDPOINT, \"ERROR: Azure OpenAI Endpoint is missing\"\n",
    "RESOURCE_ENDPOINT = f\"https://az-apim-svc-westeurope.azure-api.net\"\n",
    "client = AzureOpenAI(api_key=API_KEY, azure_endpoint=RESOURCE_ENDPOINT, api_version=\"2023-05-15\"\n",
    "                       ,default_headers={\"Ocp-Apim-Subscription-Key\": API_KEY})\n"
   ]
  },
  {
   "cell_type": "code",
   "execution_count": null,
   "metadata": {},
   "outputs": [],
   "source": [
    "# Select the General Purpose gpt-35-turbo model for text\n",
    "# this corresponds to the deployment id in Azure\n",
    "model = \"gpt-35-turbo-4k-0613\""
   ]
  },
  {
   "cell_type": "code",
   "execution_count": null,
   "metadata": {},
   "outputs": [],
   "source": [
    "\n",
    "\n",
    "text_prompt = \"Should oxford commas always be used?\"\n",
    "response = client.chat.completions.create(\n",
    "    model=model,\n",
    "    messages=[\n",
    "        {\n",
    "            \"role\": \"user\",\n",
    "            \"content\": text_prompt\n",
    "        }\n",
    "    ]\n",
    "    ,\n",
    "    temperature= 0.7,\n",
    "    max_tokens=1024,\n",
    "    n=1,\n",
    "    )\n",
    "\n",
    "\n",
    "print(response.choices[0].message.content)"
   ]
  },
  {
   "cell_type": "code",
   "execution_count": null,
   "metadata": {},
   "outputs": [],
   "source": [
    "# Let's create a interactive chat interface"
   ]
  },
  {
   "cell_type": "markdown",
   "metadata": {},
   "source": [
    "# Let's create a interactive chat interface"
   ]
  },
  {
   "cell_type": "code",
   "execution_count": null,
   "metadata": {},
   "outputs": [],
   "source": [
    "# Set a context for the chatbot, how is the chatbot supposed to behave\n",
    "messages = [\n",
    "    {\"role\": \"system\",\"content\":\"You are a kind helpful assistant.\"}\n",
    "]\n",
    "model = \"gpt-35-turbo-4k-0613\"\n"
   ]
  },
  {
   "cell_type": "code",
   "execution_count": null,
   "metadata": {},
   "outputs": [],
   "source": [
    "# Make this thing interactive - to leave this prompt, just press enter without entering anything\n",
    "count = 0\n",
    "# have fun -> to limit iterations, replace \"True\" with count < 3\n",
    "go_on = True\n",
    "while go_on:\n",
    "    message = input(\"User:\" ) \n",
    "    if len(message.strip()) == 0:\n",
    "        go_on = False\n",
    "    if message:\n",
    "        # append the messages, that gpt does not forget our previous conversation\n",
    "        messages.append({\"role\":\"user\",\"content\":message},\n",
    "                        )\n",
    "        chat = client.chat.completions.create(\n",
    "            model=model, messages=messages\n",
    "        )\n",
    "\n",
    "    reply = chat.choices[0].message.content\n",
    "    print(f\"ChatGPT: {reply}\")\n",
    "    messages.append({\"role\":\"assistant\",\"content\":\"reply\"})\n",
    "    count = count +1"
   ]
  }
 ],
 "metadata": {
  "kernelspec": {
   "display_name": "venv",
   "language": "python",
   "name": "python3"
  },
  "language_info": {
   "codemirror_mode": {
    "name": "ipython",
    "version": 3
   },
   "file_extension": ".py",
   "mimetype": "text/x-python",
   "name": "python",
   "nbconvert_exporter": "python",
   "pygments_lexer": "ipython3",
   "version": "3.11.4"
  }
 },
 "nbformat": 4,
 "nbformat_minor": 2
}
